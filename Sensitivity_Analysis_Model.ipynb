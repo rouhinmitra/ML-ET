{
 "cells": [
  {
   "cell_type": "code",
   "execution_count": 190,
   "id": "4999ba32",
   "metadata": {},
   "outputs": [],
   "source": [
    "import pandas as pd \n",
    "import numpy as np \n",
    "import matplotlib.pyplot as plt \n",
    "import os \n",
    "import pytz"
   ]
  },
  {
   "cell_type": "code",
   "execution_count": 191,
   "id": "2c663fca",
   "metadata": {},
   "outputs": [],
   "source": [
    "dir_sw_in=\"C:\\\\Rouhin_Lenovo\\\\US_project\\\\GEE_SEBAL_Project\\\\Csv_Files\\\\Vaira_2021\\\\Vaira_2021\\\\SW_IN\\\\\"\n",
    "dir_albedo=\"C:\\\\Rouhin_Lenovo\\\\US_project\\\\GEE_SEBAL_Project\\\\Csv_Files\\\\Vaira_2021\\\\Vaira_2021\\\\Albedo\\\\\"\n",
    "dir_lw_in=\"C:\\\\Rouhin_Lenovo\\\\US_project\\\\GEE_SEBAL_Project\\\\Csv_Files\\\\Vaira_2021\\\\Vaira_2021\\\\LW_IN\\\\\"\n",
    "dir_netrad=\"C:\\\\Rouhin_Lenovo\\\\US_project\\\\GEE_SEBAL_Project\\\\Csv_Files\\\\Vaira_2021\\\\Vaira_2021\\\\NETRAD\\\\\"\n",
    "dir_lw_out=\"C:\\\\Rouhin_Lenovo\\\\US_project\\\\GEE_SEBAL_Project\\\\Csv_Files\\\\Vaira_2021\\\\Vaira_2021\\\\LW_OUT\\\\\"\n",
    "dir_trans=\"C:\\\\Rouhin_Lenovo\\\\US_project\\\\GEE_SEBAL_Project\\\\Csv_Files\\\\Vaira_2021\\\\Vaira_2021\\\\Trans\\\\\""
   ]
  },
  {
   "cell_type": "code",
   "execution_count": 192,
   "id": "0d349c4a",
   "metadata": {},
   "outputs": [
    {
     "data": {
      "text/html": [
       "<div>\n",
       "<style scoped>\n",
       "    .dataframe tbody tr th:only-of-type {\n",
       "        vertical-align: middle;\n",
       "    }\n",
       "\n",
       "    .dataframe tbody tr th {\n",
       "        vertical-align: top;\n",
       "    }\n",
       "\n",
       "    .dataframe thead th {\n",
       "        text-align: right;\n",
       "    }\n",
       "</style>\n",
       "<table border=\"1\" class=\"dataframe\">\n",
       "  <thead>\n",
       "    <tr style=\"text-align: right;\">\n",
       "      <th></th>\n",
       "      <th>Unnamed: 0</th>\n",
       "      <th>id</th>\n",
       "      <th>longitude</th>\n",
       "      <th>latitude</th>\n",
       "      <th>date</th>\n",
       "      <th>UB</th>\n",
       "      <th>B</th>\n",
       "      <th>GR</th>\n",
       "      <th>R</th>\n",
       "      <th>NIR</th>\n",
       "      <th>...</th>\n",
       "      <th>EF</th>\n",
       "      <th>id.1</th>\n",
       "      <th>longitude.2</th>\n",
       "      <th>latitude.2</th>\n",
       "      <th>Rn24h_G</th>\n",
       "      <th>AirT_G</th>\n",
       "      <th>RH_G</th>\n",
       "      <th>ux_G</th>\n",
       "      <th>SW_Down</th>\n",
       "      <th>image_id</th>\n",
       "    </tr>\n",
       "  </thead>\n",
       "  <tbody>\n",
       "    <tr>\n",
       "      <th>0</th>\n",
       "      <td>0</td>\n",
       "      <td>0</td>\n",
       "      <td>-120.950922</td>\n",
       "      <td>38.413354</td>\n",
       "      <td>2021-01-09 18:39:43.203000064</td>\n",
       "      <td>-0.05447</td>\n",
       "      <td>-0.040775</td>\n",
       "      <td>0.098072</td>\n",
       "      <td>0.08875</td>\n",
       "      <td>0.219513</td>\n",
       "      <td>...</td>\n",
       "      <td>-0.266145</td>\n",
       "      <td>0</td>\n",
       "      <td>-120.950922</td>\n",
       "      <td>38.413354</td>\n",
       "      <td>31.830273</td>\n",
       "      <td>9.5512</td>\n",
       "      <td>62.455353</td>\n",
       "      <td>0.866972</td>\n",
       "      <td>124.060187</td>\n",
       "      <td>LC08_L1TP_043033_20210109_20210307_02_T1</td>\n",
       "    </tr>\n",
       "    <tr>\n",
       "      <th>1</th>\n",
       "      <td>1</td>\n",
       "      <td>1</td>\n",
       "      <td>-120.950922</td>\n",
       "      <td>38.413354</td>\n",
       "      <td>2021-01-09 18:39:43.203000064</td>\n",
       "      <td>-0.05447</td>\n",
       "      <td>-0.040775</td>\n",
       "      <td>0.098072</td>\n",
       "      <td>0.08875</td>\n",
       "      <td>0.219513</td>\n",
       "      <td>...</td>\n",
       "      <td>0.069550</td>\n",
       "      <td>1</td>\n",
       "      <td>-120.950922</td>\n",
       "      <td>38.413354</td>\n",
       "      <td>31.830273</td>\n",
       "      <td>9.5512</td>\n",
       "      <td>62.455353</td>\n",
       "      <td>0.866972</td>\n",
       "      <td>124.060187</td>\n",
       "      <td>LC08_L1TP_043033_20210109_20210307_02_T1</td>\n",
       "    </tr>\n",
       "    <tr>\n",
       "      <th>2</th>\n",
       "      <td>2</td>\n",
       "      <td>2</td>\n",
       "      <td>-120.950922</td>\n",
       "      <td>38.413354</td>\n",
       "      <td>2021-01-09 18:39:43.203000064</td>\n",
       "      <td>-0.05447</td>\n",
       "      <td>-0.040775</td>\n",
       "      <td>0.098072</td>\n",
       "      <td>0.08875</td>\n",
       "      <td>0.219513</td>\n",
       "      <td>...</td>\n",
       "      <td>0.264469</td>\n",
       "      <td>2</td>\n",
       "      <td>-120.950922</td>\n",
       "      <td>38.413354</td>\n",
       "      <td>31.830273</td>\n",
       "      <td>9.5512</td>\n",
       "      <td>62.455353</td>\n",
       "      <td>0.866972</td>\n",
       "      <td>124.060187</td>\n",
       "      <td>LC08_L1TP_043033_20210109_20210307_02_T1</td>\n",
       "    </tr>\n",
       "    <tr>\n",
       "      <th>3</th>\n",
       "      <td>3</td>\n",
       "      <td>3</td>\n",
       "      <td>-120.950922</td>\n",
       "      <td>38.413354</td>\n",
       "      <td>2021-01-09 18:39:43.203000064</td>\n",
       "      <td>-0.05447</td>\n",
       "      <td>-0.040775</td>\n",
       "      <td>0.098072</td>\n",
       "      <td>0.08875</td>\n",
       "      <td>0.219513</td>\n",
       "      <td>...</td>\n",
       "      <td>0.391425</td>\n",
       "      <td>3</td>\n",
       "      <td>-120.950922</td>\n",
       "      <td>38.413354</td>\n",
       "      <td>31.830273</td>\n",
       "      <td>9.5512</td>\n",
       "      <td>62.455353</td>\n",
       "      <td>0.866972</td>\n",
       "      <td>124.060187</td>\n",
       "      <td>LC08_L1TP_043033_20210109_20210307_02_T1</td>\n",
       "    </tr>\n",
       "    <tr>\n",
       "      <th>4</th>\n",
       "      <td>4</td>\n",
       "      <td>4</td>\n",
       "      <td>-120.950922</td>\n",
       "      <td>38.413354</td>\n",
       "      <td>2021-01-09 18:39:43.203000064</td>\n",
       "      <td>-0.05447</td>\n",
       "      <td>-0.040775</td>\n",
       "      <td>0.098072</td>\n",
       "      <td>0.08875</td>\n",
       "      <td>0.219513</td>\n",
       "      <td>...</td>\n",
       "      <td>0.480370</td>\n",
       "      <td>4</td>\n",
       "      <td>-120.950922</td>\n",
       "      <td>38.413354</td>\n",
       "      <td>31.830273</td>\n",
       "      <td>9.5512</td>\n",
       "      <td>62.455353</td>\n",
       "      <td>0.866972</td>\n",
       "      <td>124.060187</td>\n",
       "      <td>LC08_L1TP_043033_20210109_20210307_02_T1</td>\n",
       "    </tr>\n",
       "  </tbody>\n",
       "</table>\n",
       "<p>5 rows × 67 columns</p>\n",
       "</div>"
      ],
      "text/plain": [
       "   Unnamed: 0  id   longitude   latitude                          date  \\\n",
       "0           0   0 -120.950922  38.413354 2021-01-09 18:39:43.203000064   \n",
       "1           1   1 -120.950922  38.413354 2021-01-09 18:39:43.203000064   \n",
       "2           2   2 -120.950922  38.413354 2021-01-09 18:39:43.203000064   \n",
       "3           3   3 -120.950922  38.413354 2021-01-09 18:39:43.203000064   \n",
       "4           4   4 -120.950922  38.413354 2021-01-09 18:39:43.203000064   \n",
       "\n",
       "        UB         B        GR        R       NIR  ...        EF  id.1  \\\n",
       "0 -0.05447 -0.040775  0.098072  0.08875  0.219513  ... -0.266145     0   \n",
       "1 -0.05447 -0.040775  0.098072  0.08875  0.219513  ...  0.069550     1   \n",
       "2 -0.05447 -0.040775  0.098072  0.08875  0.219513  ...  0.264469     2   \n",
       "3 -0.05447 -0.040775  0.098072  0.08875  0.219513  ...  0.391425     3   \n",
       "4 -0.05447 -0.040775  0.098072  0.08875  0.219513  ...  0.480370     4   \n",
       "\n",
       "   longitude.2  latitude.2    Rn24h_G  AirT_G       RH_G      ux_G  \\\n",
       "0  -120.950922   38.413354  31.830273  9.5512  62.455353  0.866972   \n",
       "1  -120.950922   38.413354  31.830273  9.5512  62.455353  0.866972   \n",
       "2  -120.950922   38.413354  31.830273  9.5512  62.455353  0.866972   \n",
       "3  -120.950922   38.413354  31.830273  9.5512  62.455353  0.866972   \n",
       "4  -120.950922   38.413354  31.830273  9.5512  62.455353  0.866972   \n",
       "\n",
       "      SW_Down                                  image_id  \n",
       "0  124.060187  LC08_L1TP_043033_20210109_20210307_02_T1  \n",
       "1  124.060187  LC08_L1TP_043033_20210109_20210307_02_T1  \n",
       "2  124.060187  LC08_L1TP_043033_20210109_20210307_02_T1  \n",
       "3  124.060187  LC08_L1TP_043033_20210109_20210307_02_T1  \n",
       "4  124.060187  LC08_L1TP_043033_20210109_20210307_02_T1  \n",
       "\n",
       "[5 rows x 67 columns]"
      ]
     },
     "execution_count": 192,
     "metadata": {},
     "output_type": "execute_result"
    }
   ],
   "source": [
    "## Read the files as list and concatenate them\n",
    "file_list=os.listdir(dir_sw_in)\n",
    "sw_in=[]\n",
    "albedo=[]\n",
    "lw_in=[]\n",
    "lw_out=[]\n",
    "netrad=[]\n",
    "trans=[]\n",
    "for i in range(len(file_list)):\n",
    "    sw_in.append(pd.read_csv(dir_sw_in+file_list[i],parse_dates=[\"date\"]))\n",
    "    albedo.append(pd.read_csv(dir_albedo+file_list[i],parse_dates=[\"date\"]))\n",
    "    lw_in.append(pd.read_csv(dir_lw_in+file_list[i],parse_dates=[\"date\"]))\n",
    "    lw_out.append(pd.read_csv(dir_lw_out+file_list[i],parse_dates=[\"date\"]))\n",
    "    netrad.append(pd.read_csv(dir_netrad+file_list[i],parse_dates=[\"date\"]))\n",
    "    trans.append(pd.read_csv(dir_trans+file_list[i],parse_dates=[\"date\"]))\n",
    "\n",
    "    #........More variables come here..........\n",
    "sw_in=pd.concat(sw_in)\n",
    "albedo=pd.concat(albedo)\n",
    "lw_in=pd.concat(lw_in)\n",
    "lw_out=pd.concat(lw_out)\n",
    "netrad=pd.concat(netrad)\n",
    "trans=pd.concat(trans)\n",
    "trans.head()\n",
    "#............."
   ]
  },
  {
   "cell_type": "code",
   "execution_count": 193,
   "id": "5238f525",
   "metadata": {},
   "outputs": [
    {
     "data": {
      "text/plain": [
       "Unnamed: 0                                          25\n",
       "id                                                  25\n",
       "longitude                                  -120.950922\n",
       "latitude                                     38.413354\n",
       "date                     2021-01-25 18:40:02.360999936\n",
       "                                ...                   \n",
       "AirT_G                                        5.056608\n",
       "RH_G                                         73.299829\n",
       "ux_G                                          1.779044\n",
       "SW_Down                                     109.647109\n",
       "image_id      LC08_L1TP_043034_20210125_20210305_02_T1\n",
       "Name: 25, Length: 67, dtype: object"
      ]
     },
     "execution_count": 193,
     "metadata": {},
     "output_type": "execute_result"
    }
   ],
   "source": [
    "sw_in.iloc[25]"
   ]
  },
  {
   "cell_type": "code",
   "execution_count": 221,
   "id": "89f7d093",
   "metadata": {},
   "outputs": [],
   "source": [
    "## Seperate them into a list of multiple dataframes for each sensitivity percent\n",
    "## Here all our vairables are at -15,-10,1,10,15% sensitivity whihc will result in5 dfs for each variable\n",
    "magnitude=[0.5,0.6,0.7,0.8,0.9,1,1.1,1.2,1.3,1.4,1.5]\n",
    "sw_in_sep=[sw_in.iloc[i:sw_in.shape[0]:len(magnitude)] for i in range(len(magnitude))]\n",
    "albedo_sep=[albedo.iloc[i:albedo.shape[0]:len(magnitude)] for i in range(len(magnitude))]\n",
    "lw_in_sep=[lw_in.iloc[i:lw_in.shape[0]:len(magnitude)] for i in range(len(magnitude))]\n",
    "lw_out_sep=[lw_out.iloc[i:lw_out.shape[0]:len(magnitude)] for i in range(len(magnitude))]\n",
    "netrad_sep=[netrad.iloc[i:netrad.shape[0]:len(magnitude)] for i in range(len(magnitude))]\n",
    "trans_sep=[trans.iloc[i:trans.shape[0]:len(magnitude)] for i in range(len(magnitude))]\n"
   ]
  },
  {
   "cell_type": "code",
   "execution_count": 222,
   "id": "808b0471",
   "metadata": {},
   "outputs": [],
   "source": [
    "for i in range(len(magnitude)):\n",
    "    sw_in_sep[i]=sw_in_sep[i].iloc[25]\n",
    "    albedo_sep[i]=albedo_sep[i].iloc[25]\n",
    "    lw_in_sep[i]=lw_in_sep[i].iloc[25]\n",
    "    lw_out_sep[i]=lw_out_sep[i].iloc[25]\n",
    "    netrad_sep[i]=netrad_sep[i].iloc[25]\n",
    "    trans_sep[i]=trans_sep[i].iloc[25]"
   ]
  },
  {
   "cell_type": "code",
   "execution_count": 223,
   "id": "b78833ef",
   "metadata": {},
   "outputs": [
    {
     "data": {
      "text/plain": [
       "307.73054538909685"
      ]
     },
     "execution_count": 223,
     "metadata": {},
     "output_type": "execute_result"
    }
   ],
   "source": [
    "sw_in_sep[0][\"LE\"]"
   ]
  },
  {
   "cell_type": "markdown",
   "id": "b26d1433",
   "metadata": {},
   "source": [
    "### SW IN sensitivity analysis \n",
    "- The second array(i=2) is unperturbed\n",
    "- Rest are all shifted\n",
    "- The dataframes still have to be processed for LE anomalies "
   ]
  },
  {
   "cell_type": "code",
   "execution_count": 224,
   "id": "6d55ede8",
   "metadata": {},
   "outputs": [],
   "source": [
    "def MAPE(Y_actual,Y_Predicted):\n",
    "    mape = np.mean(( Y_Predicted-Y_actual)/Y_actual)*100\n",
    "    return mape\n",
    "from sklearn.metrics import mean_squared_error "
   ]
  },
  {
   "cell_type": "code",
   "execution_count": 225,
   "id": "e1514f1a",
   "metadata": {},
   "outputs": [
    {
     "ename": "SyntaxError",
     "evalue": "'[' was never closed (2143983649.py, line 1)",
     "output_type": "error",
     "traceback": [
      "\u001b[1;36m  Input \u001b[1;32mIn [225]\u001b[1;36m\u001b[0m\n\u001b[1;33m    sw_in_sep[0][\u001b[0m\n\u001b[1;37m                ^\u001b[0m\n\u001b[1;31mSyntaxError\u001b[0m\u001b[1;31m:\u001b[0m '[' was never closed\n"
     ]
    }
   ],
   "source": [
    "sw_in_sep[0]["
   ]
  },
  {
   "cell_type": "code",
   "execution_count": 226,
   "id": "71131671",
   "metadata": {},
   "outputs": [],
   "source": [
    "def LE_process(df,LE_SEBAL,sen_var_SEBAL):\n",
    "#     df=df[(df[\"Tao_sw\"]<=1)]\n",
    "#     df=df[(df[sen_var_SEBAL].notna()) &(df[LE_SEBAL].notna()) & (df[\"B\"].notna())]\n",
    "\n",
    "    return df\n",
    "swin_le=[]\n",
    "albedo_le=[]\n",
    "lwin_le=[]\n",
    "lwout_le=[]\n",
    "netrad_le=[]\n",
    "trans_le=[]\n",
    "for i in range(len(sw_in_sep)):\n",
    "    swin_le.append(LE_process(sw_in_sep[i],\"LE\",\"Rs_down\"))\n",
    "    albedo_le.append(LE_process(albedo_sep[i],\"LE\",\"ALFA\"))\n",
    "    lwin_le.append(LE_process(lw_in_sep[i],\"LE\",\"Rl_down\"))\n",
    "    lwout_le.append(LE_process(lw_out_sep[i],\"LE\",\"Rl_up\"))\n",
    "    netrad_le.append(LE_process(netrad_sep[i],\"LE\",\"Rn\"))\n",
    "    trans_le.append(LE_process(trans_sep[i],\"LE\",\"Tao_sw\"))\n"
   ]
  },
  {
   "cell_type": "code",
   "execution_count": 227,
   "id": "b8bd01c2",
   "metadata": {},
   "outputs": [
    {
     "data": {
      "text/plain": [
       "(3,)"
      ]
     },
     "execution_count": 227,
     "metadata": {},
     "output_type": "execute_result"
    }
   ],
   "source": [
    "trans_le[9][[\"Tao_sw\",\"LE\",\"image_id\"]].shape"
   ]
  },
  {
   "cell_type": "code",
   "execution_count": 228,
   "id": "6bb03421",
   "metadata": {
    "scrolled": true
   },
   "outputs": [
    {
     "data": {
      "text/plain": [
       "Tao_sw                                      0.769819\n",
       "LE                                        680.897258\n",
       "image_id    LC08_L1TP_044033_20210524_20210529_02_T1\n",
       "Rs_down                                   932.170654\n",
       "H                                               -0.0\n",
       "Rn                                        734.719704\n",
       "Rl_up                                     368.553619\n",
       "Rl_down                                   313.005682\n",
       "Name: 60, dtype: object"
      ]
     },
     "execution_count": 228,
     "metadata": {},
     "output_type": "execute_result"
    }
   ],
   "source": [
    "trans_sep[5][[\"Tao_sw\",\"LE\",\"image_id\",\"Rs_down\",\"H\",\"Rn\",\"Rl_up\",\"Rl_down\"]]"
   ]
  },
  {
   "cell_type": "code",
   "execution_count": 229,
   "id": "98d98365",
   "metadata": {},
   "outputs": [
    {
     "ename": "AttributeError",
     "evalue": "'Series' object has no attribute 'columns'",
     "output_type": "error",
     "traceback": [
      "\u001b[1;31m---------------------------------------------------------------------------\u001b[0m",
      "\u001b[1;31mAttributeError\u001b[0m                            Traceback (most recent call last)",
      "Input \u001b[1;32mIn [229]\u001b[0m, in \u001b[0;36m<module>\u001b[1;34m\u001b[0m\n\u001b[1;32m----> 1\u001b[0m \u001b[43mtrans_sep\u001b[49m\u001b[43m[\u001b[49m\u001b[38;5;241;43m0\u001b[39;49m\u001b[43m]\u001b[49m\u001b[38;5;241;43m.\u001b[39;49m\u001b[43mcolumns\u001b[49m\n",
      "File \u001b[1;32m~\\anaconda3\\envs\\ee-env\\lib\\site-packages\\pandas\\core\\generic.py:5583\u001b[0m, in \u001b[0;36mNDFrame.__getattr__\u001b[1;34m(self, name)\u001b[0m\n\u001b[0;32m   5576\u001b[0m \u001b[38;5;28;01mif\u001b[39;00m (\n\u001b[0;32m   5577\u001b[0m     name \u001b[38;5;129;01mnot\u001b[39;00m \u001b[38;5;129;01min\u001b[39;00m \u001b[38;5;28mself\u001b[39m\u001b[38;5;241m.\u001b[39m_internal_names_set\n\u001b[0;32m   5578\u001b[0m     \u001b[38;5;129;01mand\u001b[39;00m name \u001b[38;5;129;01mnot\u001b[39;00m \u001b[38;5;129;01min\u001b[39;00m \u001b[38;5;28mself\u001b[39m\u001b[38;5;241m.\u001b[39m_metadata\n\u001b[0;32m   5579\u001b[0m     \u001b[38;5;129;01mand\u001b[39;00m name \u001b[38;5;129;01mnot\u001b[39;00m \u001b[38;5;129;01min\u001b[39;00m \u001b[38;5;28mself\u001b[39m\u001b[38;5;241m.\u001b[39m_accessors\n\u001b[0;32m   5580\u001b[0m     \u001b[38;5;129;01mand\u001b[39;00m \u001b[38;5;28mself\u001b[39m\u001b[38;5;241m.\u001b[39m_info_axis\u001b[38;5;241m.\u001b[39m_can_hold_identifiers_and_holds_name(name)\n\u001b[0;32m   5581\u001b[0m ):\n\u001b[0;32m   5582\u001b[0m     \u001b[38;5;28;01mreturn\u001b[39;00m \u001b[38;5;28mself\u001b[39m[name]\n\u001b[1;32m-> 5583\u001b[0m \u001b[38;5;28;01mreturn\u001b[39;00m \u001b[38;5;28;43mobject\u001b[39;49m\u001b[38;5;241;43m.\u001b[39;49m\u001b[38;5;21;43m__getattribute__\u001b[39;49m\u001b[43m(\u001b[49m\u001b[38;5;28;43mself\u001b[39;49m\u001b[43m,\u001b[49m\u001b[43m \u001b[49m\u001b[43mname\u001b[49m\u001b[43m)\u001b[49m\n",
      "\u001b[1;31mAttributeError\u001b[0m: 'Series' object has no attribute 'columns'"
     ]
    }
   ],
   "source": [
    "trans_sep[0].columns"
   ]
  },
  {
   "cell_type": "code",
   "execution_count": 230,
   "id": "e11df0d1",
   "metadata": {
    "scrolled": true
   },
   "outputs": [
    {
     "name": "stdout",
     "output_type": "stream",
     "text": [
      "373.16671284338713\n",
      "Shape of the df 5 (67,)\n",
      "shape of df0 (67,)\n",
      "298.5333898215929\n",
      "Shape of the df 5 (67,)\n",
      "shape of df1 (67,)\n",
      "223.90001793259069\n",
      "Shape of the df 5 (67,)\n",
      "shape of df2 (67,)\n",
      "149.26669491079645\n",
      "Shape of the df 5 (67,)\n",
      "shape of df3 (67,)\n",
      "74.63337188900232\n",
      "Shape of the df 5 (67,)\n",
      "shape of df4 (67,)\n",
      "0.0\n",
      "Shape of the df 5 (67,)\n",
      "shape of df5 (67,)\n",
      "-74.63332302179424\n",
      "Shape of the df 5 (67,)\n",
      "shape of df6 (67,)\n",
      "-149.26664604358848\n",
      "Shape of the df 5 (67,)\n",
      "shape of df7 (67,)\n",
      "-223.89996906538283\n",
      "Shape of the df 5 (67,)\n",
      "shape of df8 (67,)\n",
      "-298.533389821593\n",
      "Shape of the df 5 (67,)\n",
      "shape of df9 (67,)\n",
      "-373.16671284338724\n",
      "Shape of the df 5 (67,)\n",
      "shape of df10 (67,)\n",
      "-64.89901840210734\n",
      "Shape of the df 5 (67,)\n",
      "shape of df0 (67,)\n",
      "-51.841357661011784\n",
      "Shape of the df 5 (67,)\n",
      "shape of df1 (67,)\n",
      "-38.82262545025333\n",
      "Shape of the df 5 (67,)\n",
      "shape of df2 (67,)\n",
      "-25.84282176983197\n",
      "Shape of the df 5 (67,)\n",
      "shape of df3 (67,)\n",
      "-12.901946619747378\n",
      "Shape of the df 5 (67,)\n",
      "shape of df4 (67,)\n",
      "0.0\n",
      "Shape of the df 5 (67,)\n",
      "shape of df5 (67,)\n",
      "12.863011056960431\n",
      "Shape of the df 5 (67,)\n",
      "shape of df6 (67,)\n",
      "25.687107648484357\n",
      "Shape of the df 5 (67,)\n",
      "shape of df7 (67,)\n",
      "38.4722616874011\n",
      "Shape of the df 5 (67,)\n",
      "shape of df8 (67,)\n",
      "51.21850117562087\n",
      "Shape of the df 5 (67,)\n",
      "shape of df9 (67,)\n",
      "63.92579819649404\n",
      "Shape of the df 5 (67,)\n",
      "shape of df10 (67,)\n",
      "138.05943895014593\n",
      "Shape of the df 5 (67,)\n",
      "shape of df0 (67,)\n",
      "110.44756247291275\n",
      "Shape of the df 5 (67,)\n",
      "shape of df1 (67,)\n",
      "82.83568599567957\n",
      "Shape of the df 5 (67,)\n",
      "shape of df2 (67,)\n",
      "55.223809518446274\n",
      "Shape of the df 5 (67,)\n",
      "shape of df3 (67,)\n",
      "27.61187647723318\n",
      "Shape of the df 5 (67,)\n",
      "shape of df4 (67,)\n",
      "0.0\n",
      "Shape of the df 5 (67,)\n",
      "shape of df5 (67,)\n",
      "-27.61187647723318\n",
      "Shape of the df 5 (67,)\n",
      "shape of df6 (67,)\n",
      "-55.22375295446636\n",
      "Shape of the df 5 (67,)\n",
      "shape of df7 (67,)\n",
      "-82.83562943169954\n",
      "Shape of the df 5 (67,)\n",
      "shape of df8 (67,)\n",
      "-110.44750590893273\n",
      "Shape of the df 5 (67,)\n",
      "shape of df9 (67,)\n",
      "-138.0593823861659\n",
      "Shape of the df 5 (67,)\n",
      "shape of df10 (67,)\n",
      "-170.7774731613721\n",
      "Shape of the df 5 (67,)\n",
      "shape of df0 (67,)\n",
      "-136.62197852909765\n",
      "Shape of the df 5 (67,)\n",
      "shape of df1 (67,)\n",
      "-102.46649803781827\n",
      "Shape of the df 5 (67,)\n",
      "shape of df2 (67,)\n",
      "-68.31098926454888\n",
      "Shape of the df 5 (67,)\n",
      "shape of df3 (67,)\n",
      "-34.15550877326939\n",
      "Shape of the df 5 (67,)\n",
      "shape of df4 (67,)\n",
      "0.0\n",
      "Shape of the df 5 (67,)\n",
      "shape of df5 (67,)\n",
      "34.15548049127938\n",
      "Shape of the df 5 (67,)\n",
      "shape of df6 (67,)\n",
      "68.31098926454888\n",
      "Shape of the df 5 (67,)\n",
      "shape of df7 (67,)\n",
      "102.46646975582826\n",
      "Shape of the df 5 (67,)\n",
      "shape of df8 (67,)\n",
      "136.62195024710775\n",
      "Shape of the df 5 (67,)\n",
      "shape of df9 (67,)\n",
      "170.77748730236715\n",
      "Shape of the df 5 (67,)\n",
      "shape of df10 (67,)\n",
      "340.4486397219859\n",
      "Shape of the df 5 (67,)\n",
      "shape of df0 (67,)\n",
      "272.35892874678274\n",
      "Shape of the df 5 (67,)\n",
      "shape of df1 (67,)\n",
      "204.26921777157952\n",
      "Shape of the df 5 (67,)\n",
      "shape of df2 (67,)\n",
      "136.17947851438635\n",
      "Shape of the df 5 (67,)\n",
      "shape of df3 (67,)\n",
      "68.08973925719317\n",
      "Shape of the df 5 (67,)\n",
      "shape of df4 (67,)\n",
      "0.0\n",
      "Shape of the df 5 (67,)\n",
      "shape of df5 (67,)\n",
      "-68.08968269321326\n",
      "Shape of the df 5 (67,)\n",
      "shape of df6 (67,)\n",
      "-136.17942195040644\n",
      "Shape of the df 5 (67,)\n",
      "shape of df7 (67,)\n",
      "-204.2691612075996\n",
      "Shape of the df 5 (67,)\n",
      "shape of df8 (67,)\n",
      "-272.3588439008129\n",
      "Shape of the df 5 (67,)\n",
      "shape of df9 (67,)\n",
      "-340.44863972198607\n",
      "Shape of the df 5 (67,)\n",
      "shape of df10 (67,)\n",
      "339.04500701746053\n",
      "Shape of the df 5 (67,)\n",
      "shape of df0 (67,)\n",
      "270.27251289400107\n",
      "Shape of the df 5 (67,)\n",
      "shape of df1 (67,)\n",
      "201.67647242277587\n",
      "Shape of the df 5 (67,)\n",
      "shape of df2 (67,)\n",
      "133.50528902997507\n",
      "Shape of the df 5 (67,)\n",
      "shape of df3 (67,)\n",
      "66.09352046184972\n",
      "Shape of the df 5 (67,)\n",
      "shape of df4 (67,)\n",
      "0.0\n",
      "Shape of the df 5 (67,)\n",
      "shape of df5 (67,)\n",
      "-63.60035925086379\n",
      "Shape of the df 5 (67,)\n",
      "shape of df6 (67,)\n",
      "-121.13699092328113\n",
      "Shape of the df 5 (67,)\n",
      "shape of df7 (67,)\n",
      "nan\n",
      "Shape of the df 5 (67,)\n",
      "shape of df8 (67,)\n",
      "nan\n",
      "Shape of the df 5 (67,)\n",
      "shape of df9 (67,)\n",
      "nan\n",
      "Shape of the df 5 (67,)\n",
      "shape of df10 (67,)\n"
     ]
    }
   ],
   "source": [
    "## Calculate average bias of LE vs  of SW IN and plot scatter plot \n",
    "## LE_y is the observed ET and LE_x is the SEBAL ET \n",
    "## I need a df with columns as bias and rmse of albedo and LE and rows represent the perturbation \n",
    "def get_station_error(list_df,LE_SEBAL,sen_var_SEBAL,variable):\n",
    "    bias_LE=[]\n",
    "    rmse_LE=[]\n",
    "    bias_var=[]\n",
    "    rmse_var=[]\n",
    "    df=pd.DataFrame()\n",
    "    magnitude=[-50,-40,-30,-20,-10,0,10,20,30,40,50]\n",
    "    for i in range(len(list_df)):\n",
    "#         print(MAPE(list_df[i][LE_SEBAL],list_df[i][LE_SEBAL])\n",
    "#         if sen_var_SEBAL==\"Tao_sw\" and i==9:\n",
    "        \n",
    "        bias_LE.append(MAPE(list_df[5][LE_SEBAL],list_df[i][LE_SEBAL]))\n",
    "        print(list_df[5][LE_SEBAL]-list_df[i][LE_SEBAL])\n",
    "        print(\"Shape of the df 5\",list_df[5].shape)\n",
    "        print(\"shape of df\"+str(i),list_df[i].shape)\n",
    "        bias_var.append(MAPE(list_df[5][sen_var_SEBAL],list_df[i][sen_var_SEBAL]))\n",
    "#         rmse_LE.append(mean_squared_error(list_df[5][LE_SEBAL], \\\n",
    "#                    list_df[i][LE_SEBAL],squared=False))\n",
    "#         rmse_var.append(mean_squared_error(list_df[5][sen_var_SEBAL], \\\n",
    "#                    list_df[i][sen_var_SEBAL],squared=False))\n",
    "    df[\"Bias_LE\"]=bias_LE\n",
    "#     df[\"rmse_LE\"]=rmse_LE\n",
    "    df[\"Bias_\"+variable]=bias_var\n",
    "#     df[\"rmse_\"+variable]=rmse_var\n",
    "    df[\"Sensitivity\"]=magnitude\n",
    "    return df\n",
    "sw_in_error=get_station_error(swin_le,\"LE\",\"Rs_down\",\"SW_IN\")\n",
    "albedo_error=get_station_error(albedo_le,\"LE\",\"ALFA\",\"Albedo\")\n",
    "lw_in_error=get_station_error(lwin_le,\"LE\",\"Rl_down\",\"LW_IN\")\n",
    "lw_out_error=get_station_error(lwout_le,\"LE\",\"Rl_up\",\"LW_OUT\")\n",
    "netrad_error=get_station_error(netrad_le,\"LE\",\"Rn\",\"NETRAD\")\n",
    "trans_error=get_station_error(trans_le,\"LE\",\"Tao_sw\",\"tao\")\n",
    "        \n",
    "        \n",
    "    "
   ]
  },
  {
   "cell_type": "markdown",
   "id": "06071eb4",
   "metadata": {},
   "source": [
    "## Bias in Daily ET "
   ]
  },
  {
   "cell_type": "code",
   "execution_count": 272,
   "id": "9d09cb1b",
   "metadata": {},
   "outputs": [
    {
     "name": "stdout",
     "output_type": "stream",
     "text": [
      "0.0\n",
      "Shape of the df 5 (67,)\n",
      "shape of df0 (67,)\n",
      "0.0\n",
      "Shape of the df 5 (67,)\n",
      "shape of df1 (67,)\n",
      "0.0\n",
      "Shape of the df 5 (67,)\n",
      "shape of df2 (67,)\n",
      "0.0\n",
      "Shape of the df 5 (67,)\n",
      "shape of df3 (67,)\n",
      "0.0\n",
      "Shape of the df 5 (67,)\n",
      "shape of df4 (67,)\n",
      "0.0\n",
      "Shape of the df 5 (67,)\n",
      "shape of df5 (67,)\n",
      "0.0\n",
      "Shape of the df 5 (67,)\n",
      "shape of df6 (67,)\n",
      "0.0\n",
      "Shape of the df 5 (67,)\n",
      "shape of df7 (67,)\n",
      "0.0\n",
      "Shape of the df 5 (67,)\n",
      "shape of df8 (67,)\n",
      "0.0\n",
      "Shape of the df 5 (67,)\n",
      "shape of df9 (67,)\n",
      "0.0\n",
      "Shape of the df 5 (67,)\n",
      "shape of df10 (67,)\n",
      "-0.8167995994389052\n",
      "Shape of the df 5 (67,)\n",
      "shape of df0 (67,)\n",
      "-0.6534396792394794\n",
      "Shape of the df 5 (67,)\n",
      "shape of df1 (67,)\n",
      "-0.4900797647042907\n",
      "Shape of the df 5 (67,)\n",
      "shape of df2 (67,)\n",
      "-0.3267198362078094\n",
      "Shape of the df 5 (67,)\n",
      "shape of df3 (67,)\n",
      "-0.16335992167261892\n",
      "Shape of the df 5 (67,)\n",
      "shape of df4 (67,)\n",
      "0.0\n",
      "Shape of the df 5 (67,)\n",
      "shape of df5 (67,)\n",
      "0.16335983142757904\n",
      "Shape of the df 5 (67,)\n",
      "shape of df6 (67,)\n",
      "0.3267198403988525\n",
      "Shape of the df 5 (67,)\n",
      "shape of df7 (67,)\n",
      "0.4900796872609181\n",
      "Shape of the df 5 (67,)\n",
      "shape of df8 (67,)\n",
      "0.6534396694692273\n",
      "Shape of the df 5 (67,)\n",
      "shape of df9 (67,)\n",
      "0.8167995174909208\n",
      "Shape of the df 5 (67,)\n",
      "shape of df10 (67,)\n",
      "0.0\n",
      "Shape of the df 5 (67,)\n",
      "shape of df0 (67,)\n",
      "0.0\n",
      "Shape of the df 5 (67,)\n",
      "shape of df1 (67,)\n",
      "0.0\n",
      "Shape of the df 5 (67,)\n",
      "shape of df2 (67,)\n",
      "0.0\n",
      "Shape of the df 5 (67,)\n",
      "shape of df3 (67,)\n",
      "0.0\n",
      "Shape of the df 5 (67,)\n",
      "shape of df4 (67,)\n",
      "0.0\n",
      "Shape of the df 5 (67,)\n",
      "shape of df5 (67,)\n",
      "0.0\n",
      "Shape of the df 5 (67,)\n",
      "shape of df6 (67,)\n",
      "0.0\n",
      "Shape of the df 5 (67,)\n",
      "shape of df7 (67,)\n",
      "0.0\n",
      "Shape of the df 5 (67,)\n",
      "shape of df8 (67,)\n",
      "0.0\n",
      "Shape of the df 5 (67,)\n",
      "shape of df9 (67,)\n",
      "0.0\n",
      "Shape of the df 5 (67,)\n",
      "shape of df10 (67,)\n",
      "0.0\n",
      "Shape of the df 5 (67,)\n",
      "shape of df0 (67,)\n",
      "0.0\n",
      "Shape of the df 5 (67,)\n",
      "shape of df1 (67,)\n",
      "0.0\n",
      "Shape of the df 5 (67,)\n",
      "shape of df2 (67,)\n",
      "0.0\n",
      "Shape of the df 5 (67,)\n",
      "shape of df3 (67,)\n",
      "0.0\n",
      "Shape of the df 5 (67,)\n",
      "shape of df4 (67,)\n",
      "0.0\n",
      "Shape of the df 5 (67,)\n",
      "shape of df5 (67,)\n",
      "0.0\n",
      "Shape of the df 5 (67,)\n",
      "shape of df6 (67,)\n",
      "0.0\n",
      "Shape of the df 5 (67,)\n",
      "shape of df7 (67,)\n",
      "0.0\n",
      "Shape of the df 5 (67,)\n",
      "shape of df8 (67,)\n",
      "0.0\n",
      "Shape of the df 5 (67,)\n",
      "shape of df9 (67,)\n",
      "0.0\n",
      "Shape of the df 5 (67,)\n",
      "shape of df10 (67,)\n",
      "0.0\n",
      "Shape of the df 5 (67,)\n",
      "shape of df0 (67,)\n",
      "0.0\n",
      "Shape of the df 5 (67,)\n",
      "shape of df1 (67,)\n",
      "0.0\n",
      "Shape of the df 5 (67,)\n",
      "shape of df2 (67,)\n",
      "0.0\n",
      "Shape of the df 5 (67,)\n",
      "shape of df3 (67,)\n",
      "0.0\n",
      "Shape of the df 5 (67,)\n",
      "shape of df4 (67,)\n",
      "0.0\n",
      "Shape of the df 5 (67,)\n",
      "shape of df5 (67,)\n",
      "0.0\n",
      "Shape of the df 5 (67,)\n",
      "shape of df6 (67,)\n",
      "0.0\n",
      "Shape of the df 5 (67,)\n",
      "shape of df7 (67,)\n",
      "0.0\n",
      "Shape of the df 5 (67,)\n",
      "shape of df8 (67,)\n",
      "0.0\n",
      "Shape of the df 5 (67,)\n",
      "shape of df9 (67,)\n",
      "0.0\n",
      "Shape of the df 5 (67,)\n",
      "shape of df10 (67,)\n",
      "0.0\n",
      "Shape of the df 5 (67,)\n",
      "shape of df0 (67,)\n",
      "0.0\n",
      "Shape of the df 5 (67,)\n",
      "shape of df1 (67,)\n",
      "0.0\n",
      "Shape of the df 5 (67,)\n",
      "shape of df2 (67,)\n",
      "0.0\n",
      "Shape of the df 5 (67,)\n",
      "shape of df3 (67,)\n",
      "0.0\n",
      "Shape of the df 5 (67,)\n",
      "shape of df4 (67,)\n",
      "0.0\n",
      "Shape of the df 5 (67,)\n",
      "shape of df5 (67,)\n",
      "0.0\n",
      "Shape of the df 5 (67,)\n",
      "shape of df6 (67,)\n",
      "0.0\n",
      "Shape of the df 5 (67,)\n",
      "shape of df7 (67,)\n",
      "nan\n",
      "Shape of the df 5 (67,)\n",
      "shape of df8 (67,)\n",
      "nan\n",
      "Shape of the df 5 (67,)\n",
      "shape of df9 (67,)\n",
      "nan\n",
      "Shape of the df 5 (67,)\n",
      "shape of df10 (67,)\n"
     ]
    }
   ],
   "source": [
    "## Calculate average bias of LE vs  of SW IN and plot scatter plot \n",
    "## LE_y is the observed ET and LE_x is the SEBAL ET \n",
    "## I need a df with columns as bias and rmse of albedo and LE and rows represent the perturbation \n",
    "def get_station_error(list_df,LE_SEBAL,sen_var_SEBAL,variable):\n",
    "    bias_LE=[]\n",
    "    rmse_LE=[]\n",
    "    bias_var=[]\n",
    "    rmse_var=[]\n",
    "    df=pd.DataFrame()\n",
    "    magnitude=[-50,-40,-30,-20,-10,0,10,20,30,40,50]\n",
    "    for i in range(len(list_df)):\n",
    "#         print(MAPE(list_df[i][LE_SEBAL],list_df[i][LE_SEBAL])\n",
    "#         if sen_var_SEBAL==\"Tao_sw\" and i==9:\n",
    "        \n",
    "        bias_LE.append(MAPE(list_df[5][LE_SEBAL],list_df[i][LE_SEBAL]))\n",
    "        print(list_df[5][LE_SEBAL]-list_df[i][LE_SEBAL])\n",
    "        print(\"Shape of the df 5\",list_df[5].shape)\n",
    "        print(\"shape of df\"+str(i),list_df[i].shape)\n",
    "        bias_var.append(MAPE(list_df[5][sen_var_SEBAL],list_df[i][sen_var_SEBAL]))\n",
    "#         rmse_LE.append(mean_squared_error(list_df[5][LE_SEBAL], \\\n",
    "#                    list_df[i][LE_SEBAL],squared=False))\n",
    "#         rmse_var.append(mean_squared_error(list_df[5][sen_var_SEBAL], \\\n",
    "#                    list_df[i][sen_var_SEBAL],squared=False))\n",
    "    df[\"Bias_LE\"]=bias_LE\n",
    "#     df[\"rmse_LE\"]=rmse_LE\n",
    "    df[\"Bias_\"+variable]=bias_var\n",
    "#     df[\"rmse_\"+variable]=rmse_var\n",
    "    df[\"Sensitivity\"]=magnitude\n",
    "    return df\n",
    "sw_in_error_daily=get_station_error(swin_le,\"ET_24h\",\"Rs_down\",\"SW_IN\")\n",
    "albedo_error_daily=get_station_error(albedo_le,\"ET_24h\",\"ALFA\",\"Albedo\")\n",
    "lw_in_error_daily=get_station_error(lwin_le,\"ET_24h\",\"Rl_down\",\"LW_IN\")\n",
    "lw_out_error_daily=get_station_error(lwout_le,\"ET_24h\",\"Rl_up\",\"LW_OUT\")\n",
    "netrad_error_daily=get_station_error(netrad_le,\"ET_24h\",\"Rn\",\"NETRAD\")\n",
    "trans_error_daily=get_station_error(trans_le,\"ET_24h\",\"Tao_sw\",\"tao\")\n",
    "        \n",
    "        \n",
    "    "
   ]
  },
  {
   "cell_type": "code",
   "execution_count": 252,
   "id": "3d92a040",
   "metadata": {},
   "outputs": [
    {
     "data": {
      "text/plain": [
       "Index(['Unnamed: 0', 'id', 'longitude', 'latitude', 'date', 'UB', 'B', 'GR',\n",
       "       'R', 'NIR', 'SWIR_1', 'SWIR_2', 'ST_B10', 'pixel_qa', 'ALFA', 'NDVI',\n",
       "       'EVI', 'SAVI', 'T_LST', 'LAI', 'e_0', 'e_NB', 'longitude.1',\n",
       "       'latitude.1', 'NDVI_neg', 'pos_NDVI', 'int', 'sd_ndvi', 'NDWI',\n",
       "       'LST_neg', 'LST_NW', 'T_LST_DEM', 'LST_neg_1', 'LST_NW_1', 'Tao_sw',\n",
       "       'EA', 'W_ATM', 'Rl_up', 'Rs_down', 'Tao_sw_1', 'ES', 'EA_1', 'Rl_down',\n",
       "       'Rn', 'G', 'zom', 'u_fr', 'H', 'rah', 'dT', 'rah_first', 'zom_1',\n",
       "       'u_fr_1', 'ufric_star', 'ET_inst', 'ET_24h', 'LE', 'EF', 'id.1',\n",
       "       'longitude.2', 'latitude.2', 'Rn24h_G', 'AirT_G', 'RH_G', 'ux_G',\n",
       "       'SW_Down', 'image_id'],\n",
       "      dtype='object')"
      ]
     },
     "execution_count": 252,
     "metadata": {},
     "output_type": "execute_result"
    }
   ],
   "source": [
    "swin_le[0].index"
   ]
  },
  {
   "cell_type": "markdown",
   "id": "c06f741f",
   "metadata": {},
   "source": [
    "## Plotting"
   ]
  },
  {
   "cell_type": "code",
   "execution_count": 209,
   "id": "7c931e7b",
   "metadata": {},
   "outputs": [],
   "source": [
    "# Albedo"
   ]
  },
  {
   "cell_type": "code",
   "execution_count": 210,
   "id": "dcb8293b",
   "metadata": {},
   "outputs": [
    {
     "ename": "KeyError",
     "evalue": "'rmse_LE'",
     "output_type": "error",
     "traceback": [
      "\u001b[1;31m---------------------------------------------------------------------------\u001b[0m",
      "\u001b[1;31mKeyError\u001b[0m                                  Traceback (most recent call last)",
      "File \u001b[1;32m~\\anaconda3\\envs\\ee-env\\lib\\site-packages\\pandas\\core\\indexes\\base.py:3621\u001b[0m, in \u001b[0;36mIndex.get_loc\u001b[1;34m(self, key, method, tolerance)\u001b[0m\n\u001b[0;32m   3620\u001b[0m \u001b[38;5;28;01mtry\u001b[39;00m:\n\u001b[1;32m-> 3621\u001b[0m     \u001b[38;5;28;01mreturn\u001b[39;00m \u001b[38;5;28;43mself\u001b[39;49m\u001b[38;5;241;43m.\u001b[39;49m\u001b[43m_engine\u001b[49m\u001b[38;5;241;43m.\u001b[39;49m\u001b[43mget_loc\u001b[49m\u001b[43m(\u001b[49m\u001b[43mcasted_key\u001b[49m\u001b[43m)\u001b[49m\n\u001b[0;32m   3622\u001b[0m \u001b[38;5;28;01mexcept\u001b[39;00m \u001b[38;5;167;01mKeyError\u001b[39;00m \u001b[38;5;28;01mas\u001b[39;00m err:\n",
      "File \u001b[1;32m~\\anaconda3\\envs\\ee-env\\lib\\site-packages\\pandas\\_libs\\index.pyx:136\u001b[0m, in \u001b[0;36mpandas._libs.index.IndexEngine.get_loc\u001b[1;34m()\u001b[0m\n",
      "File \u001b[1;32m~\\anaconda3\\envs\\ee-env\\lib\\site-packages\\pandas\\_libs\\index.pyx:163\u001b[0m, in \u001b[0;36mpandas._libs.index.IndexEngine.get_loc\u001b[1;34m()\u001b[0m\n",
      "File \u001b[1;32mpandas\\_libs\\hashtable_class_helper.pxi:5198\u001b[0m, in \u001b[0;36mpandas._libs.hashtable.PyObjectHashTable.get_item\u001b[1;34m()\u001b[0m\n",
      "File \u001b[1;32mpandas\\_libs\\hashtable_class_helper.pxi:5206\u001b[0m, in \u001b[0;36mpandas._libs.hashtable.PyObjectHashTable.get_item\u001b[1;34m()\u001b[0m\n",
      "\u001b[1;31mKeyError\u001b[0m: 'rmse_LE'",
      "\nThe above exception was the direct cause of the following exception:\n",
      "\u001b[1;31mKeyError\u001b[0m                                  Traceback (most recent call last)",
      "Input \u001b[1;32mIn [210]\u001b[0m, in \u001b[0;36m<module>\u001b[1;34m\u001b[0m\n\u001b[0;32m      1\u001b[0m \u001b[38;5;66;03m## Plotting the errors \u001b[39;00m\n\u001b[0;32m      2\u001b[0m fig,ax\u001b[38;5;241m=\u001b[39mplt\u001b[38;5;241m.\u001b[39msubplots(figsize\u001b[38;5;241m=\u001b[39m(\u001b[38;5;241m6\u001b[39m,\u001b[38;5;241m6\u001b[39m))\n\u001b[1;32m----> 3\u001b[0m plt\u001b[38;5;241m.\u001b[39mplot(albedo_error[\u001b[38;5;124m\"\u001b[39m\u001b[38;5;124mSensitivity\u001b[39m\u001b[38;5;124m\"\u001b[39m],\u001b[43malbedo_error\u001b[49m\u001b[43m[\u001b[49m\u001b[38;5;124;43m\"\u001b[39;49m\u001b[38;5;124;43mrmse_LE\u001b[39;49m\u001b[38;5;124;43m\"\u001b[39;49m\u001b[43m]\u001b[49m,\u001b[38;5;124m\"\u001b[39m\u001b[38;5;124mo\u001b[39m\u001b[38;5;124m\"\u001b[39m,c\u001b[38;5;241m=\u001b[39m\u001b[38;5;124m\"\u001b[39m\u001b[38;5;124mb\u001b[39m\u001b[38;5;124m\"\u001b[39m,label\u001b[38;5;241m=\u001b[39m\u001b[38;5;124m\"\u001b[39m\u001b[38;5;124mAlbedo\u001b[39m\u001b[38;5;124m\"\u001b[39m)\n\u001b[0;32m      4\u001b[0m plt\u001b[38;5;241m.\u001b[39mplot(sw_in_error[\u001b[38;5;124m\"\u001b[39m\u001b[38;5;124mSensitivity\u001b[39m\u001b[38;5;124m\"\u001b[39m],sw_in_error[\u001b[38;5;124m\"\u001b[39m\u001b[38;5;124mrmse_LE\u001b[39m\u001b[38;5;124m\"\u001b[39m],\u001b[38;5;124m\"\u001b[39m\u001b[38;5;124mo\u001b[39m\u001b[38;5;124m\"\u001b[39m,c\u001b[38;5;241m=\u001b[39m\u001b[38;5;124m\"\u001b[39m\u001b[38;5;124mr\u001b[39m\u001b[38;5;124m\"\u001b[39m,label\u001b[38;5;241m=\u001b[39m\u001b[38;5;124m\"\u001b[39m\u001b[38;5;124mSW IN\u001b[39m\u001b[38;5;124m\"\u001b[39m)\n\u001b[0;32m      5\u001b[0m plt\u001b[38;5;241m.\u001b[39mplot(lw_in_error[\u001b[38;5;124m\"\u001b[39m\u001b[38;5;124mSensitivity\u001b[39m\u001b[38;5;124m\"\u001b[39m],lw_in_error[\u001b[38;5;124m\"\u001b[39m\u001b[38;5;124mrmse_LE\u001b[39m\u001b[38;5;124m\"\u001b[39m],\u001b[38;5;124m\"\u001b[39m\u001b[38;5;124mo\u001b[39m\u001b[38;5;124m\"\u001b[39m,c\u001b[38;5;241m=\u001b[39m\u001b[38;5;124m\"\u001b[39m\u001b[38;5;124mg\u001b[39m\u001b[38;5;124m\"\u001b[39m,label\u001b[38;5;241m=\u001b[39m\u001b[38;5;124m\"\u001b[39m\u001b[38;5;124mLW IN\u001b[39m\u001b[38;5;124m\"\u001b[39m)\n",
      "File \u001b[1;32m~\\anaconda3\\envs\\ee-env\\lib\\site-packages\\pandas\\core\\frame.py:3506\u001b[0m, in \u001b[0;36mDataFrame.__getitem__\u001b[1;34m(self, key)\u001b[0m\n\u001b[0;32m   3504\u001b[0m \u001b[38;5;28;01mif\u001b[39;00m \u001b[38;5;28mself\u001b[39m\u001b[38;5;241m.\u001b[39mcolumns\u001b[38;5;241m.\u001b[39mnlevels \u001b[38;5;241m>\u001b[39m \u001b[38;5;241m1\u001b[39m:\n\u001b[0;32m   3505\u001b[0m     \u001b[38;5;28;01mreturn\u001b[39;00m \u001b[38;5;28mself\u001b[39m\u001b[38;5;241m.\u001b[39m_getitem_multilevel(key)\n\u001b[1;32m-> 3506\u001b[0m indexer \u001b[38;5;241m=\u001b[39m \u001b[38;5;28;43mself\u001b[39;49m\u001b[38;5;241;43m.\u001b[39;49m\u001b[43mcolumns\u001b[49m\u001b[38;5;241;43m.\u001b[39;49m\u001b[43mget_loc\u001b[49m\u001b[43m(\u001b[49m\u001b[43mkey\u001b[49m\u001b[43m)\u001b[49m\n\u001b[0;32m   3507\u001b[0m \u001b[38;5;28;01mif\u001b[39;00m is_integer(indexer):\n\u001b[0;32m   3508\u001b[0m     indexer \u001b[38;5;241m=\u001b[39m [indexer]\n",
      "File \u001b[1;32m~\\anaconda3\\envs\\ee-env\\lib\\site-packages\\pandas\\core\\indexes\\base.py:3623\u001b[0m, in \u001b[0;36mIndex.get_loc\u001b[1;34m(self, key, method, tolerance)\u001b[0m\n\u001b[0;32m   3621\u001b[0m     \u001b[38;5;28;01mreturn\u001b[39;00m \u001b[38;5;28mself\u001b[39m\u001b[38;5;241m.\u001b[39m_engine\u001b[38;5;241m.\u001b[39mget_loc(casted_key)\n\u001b[0;32m   3622\u001b[0m \u001b[38;5;28;01mexcept\u001b[39;00m \u001b[38;5;167;01mKeyError\u001b[39;00m \u001b[38;5;28;01mas\u001b[39;00m err:\n\u001b[1;32m-> 3623\u001b[0m     \u001b[38;5;28;01mraise\u001b[39;00m \u001b[38;5;167;01mKeyError\u001b[39;00m(key) \u001b[38;5;28;01mfrom\u001b[39;00m \u001b[38;5;21;01merr\u001b[39;00m\n\u001b[0;32m   3624\u001b[0m \u001b[38;5;28;01mexcept\u001b[39;00m \u001b[38;5;167;01mTypeError\u001b[39;00m:\n\u001b[0;32m   3625\u001b[0m     \u001b[38;5;66;03m# If we have a listlike key, _check_indexing_error will raise\u001b[39;00m\n\u001b[0;32m   3626\u001b[0m     \u001b[38;5;66;03m#  InvalidIndexError. Otherwise we fall through and re-raise\u001b[39;00m\n\u001b[0;32m   3627\u001b[0m     \u001b[38;5;66;03m#  the TypeError.\u001b[39;00m\n\u001b[0;32m   3628\u001b[0m     \u001b[38;5;28mself\u001b[39m\u001b[38;5;241m.\u001b[39m_check_indexing_error(key)\n",
      "\u001b[1;31mKeyError\u001b[0m: 'rmse_LE'"
     ]
    },
    {
     "data": {
      "image/png": "[encoded data removed]",
      "text/plain": [
       "<Figure size 432x432 with 1 Axes>"
      ]
     },
     "metadata": {
      "needs_background": "light"
     },
     "output_type": "display_data"
    }
   ],
   "source": [
    "## Plotting the errors \n",
    "fig,ax=plt.subplots(figsize=(6,6))\n",
    "plt.plot(albedo_error[\"Sensitivity\"],albedo_error[\"rmse_LE\"],\"o\",c=\"b\",label=\"Albedo\")\n",
    "plt.plot(sw_in_error[\"Sensitivity\"],sw_in_error[\"rmse_LE\"],\"o\",c=\"r\",label=\"SW IN\")\n",
    "plt.plot(lw_in_error[\"Sensitivity\"],lw_in_error[\"rmse_LE\"],\"o\",c=\"g\",label=\"LW IN\")\n",
    "plt.plot(lw_out_error[\"Sensitivity\"],lw_out_error[\"rmse_LE\"],\"o\",c=\"y\",label=\"LW OUT\")\n",
    "plt.plot(netrad_error[\"Sensitivity\"],netrad_error[\"rmse_LE\"],\"o\",c=\"m\",label=\"NETRAD\")\n",
    "# plt.plot(trans_error[\"Sensitivity\"],trans_error[\"rmse_LE\"],\"o\",c=\"c\",label=r\"$\\tau_{sw}$\")\n",
    "\n",
    "plt.legend(fontsize=10)\n",
    "plt.xlabel(\"Perturbation in %\",fontsize=20)\n",
    "plt.ylabel(\"$LE_{inst}$ RMSE $(W/m^2)$\",fontsize=20)\n",
    "plt.xticks(fontsize=15)\n",
    "plt.yticks(fontsize=15)\n",
    "plt.plot(np.linspace(0,0,5),np.linspace(75,180,5),linewidth=2,c=\"k\")\n",
    "plt.plot(np.linspace(-15,15,5),np.linspace(123,123,5),linewidth=2,c=\"k\")"
   ]
  },
  {
   "cell_type": "code",
   "execution_count": 177,
   "id": "55a904d7",
   "metadata": {},
   "outputs": [
    {
     "data": {
      "text/plain": [
       "[<matplotlib.lines.Line2D at 0x234d466b550>]"
      ]
     },
     "execution_count": 177,
     "metadata": {},
     "output_type": "execute_result"
    },
    {
     "data": {
      "image/png": "[encoded data removed]",
      "text/plain": [
       "<Figure size 432x432 with 1 Axes>"
      ]
     },
     "metadata": {
      "needs_background": "light"
     },
     "output_type": "display_data"
    }
   ],
   "source": [
    "## Plotting the errors \n",
    "fig,ax=plt.subplots(figsize=(6,6))\n",
    "plt.plot(albedo_error[\"Sensitivity\"],albedo_error[\"Bias_LE\"],\"o\",c=\"b\",label=\"Albedo\")\n",
    "plt.plot(sw_in_error[\"Sensitivity\"],sw_in_error[\"Bias_LE\"],\"o\",c=\"r\",label=\"SW IN\")\n",
    "plt.plot(lw_in_error[\"Sensitivity\"],lw_in_error[\"Bias_LE\"],\"o\",c=\"g\",label=\"LW IN\")\n",
    "plt.plot(lw_out_error[\"Sensitivity\"],lw_out_error[\"Bias_LE\"],\"o\",c=\"y\",label=\"LW OUT\")\n",
    "plt.plot(netrad_error[\"Sensitivity\"],netrad_error[\"Bias_LE\"],\"o\",c=\"m\",label=\"NETRAD\")\n",
    "plt.plot(trans_error[\"Sensitivity\"],trans_error[\"Bias_LE\"],\"o\",c=\"c\",label=r\"$\\tau_{sw}$\")\n",
    "\n",
    "plt.legend(fontsize=10)\n",
    "plt.xlabel(\"Perturbation in %\",fontsize=20)\n",
    "plt.ylabel(\"$LE_{inst}$ Bias (%)\",fontsize=20)\n",
    "plt.xticks(fontsize=15)\n",
    "plt.yticks(fontsize=15)\n",
    "plt.plot(np.linspace(0,0,10),np.linspace(-100,120,10),linewidth=2,c=\"k\")\n",
    "plt.plot(np.linspace(-50,50,5),np.linspace(0,0,5),linewidth=2,c=\"k\")"
   ]
  },
  {
   "cell_type": "code",
   "execution_count": 278,
   "id": "b2f54664",
   "metadata": {},
   "outputs": [
    {
     "data": {
      "text/plain": [
       "Rs_down                                   466.085327\n",
       "image_id    LC08_L1TP_044033_20210524_20210529_02_T1\n",
       "LE                                        307.730545\n",
       "ET_24h                                      7.554333\n",
       "Rn                                        332.055523\n",
       "EF                                               1.0\n",
       "Name: 55, dtype: object"
      ]
     },
     "execution_count": 278,
     "metadata": {},
     "output_type": "execute_result"
    }
   ],
   "source": [
    "sw_in_sep[0][[\"Rs_down\",\"image_id\",\"LE\",\"ET_24h\",\"Rn\",\"EF\"]]"
   ]
  },
  {
   "cell_type": "code",
   "execution_count": 277,
   "id": "deb7c6ac",
   "metadata": {},
   "outputs": [
    {
     "data": {
      "text/plain": [
       "Rs_down                                   932.170654\n",
       "image_id    LC08_L1TP_044033_20210524_20210529_02_T1\n",
       "LE                                        680.897258\n",
       "ET_24h                                      7.554333\n",
       "Rn                                        734.719704\n",
       "EF                                               1.0\n",
       "Name: 60, dtype: object"
      ]
     },
     "execution_count": 277,
     "metadata": {},
     "output_type": "execute_result"
    }
   ],
   "source": [
    "sw_in_sep[5][[\"Rs_down\",\"image_id\",\"LE\",\"ET_24h\",\"Rn\",\"EF\"]]"
   ]
  },
  {
   "cell_type": "code",
   "execution_count": 235,
   "id": "9b7188ed",
   "metadata": {},
   "outputs": [
    {
     "data": {
      "text/plain": [
       "Rs_down                                   466.085327\n",
       "ALFA                                        0.136072\n",
       "Rl_down                                   313.005682\n",
       "Rl_up                                     368.553619\n",
       "G                                          24.324978\n",
       "Rn                                        332.055523\n",
       "Tao_sw                                      0.769819\n",
       "image_id    LC08_L1TP_044033_20210524_20210529_02_T1\n",
       "LE                                        307.730545\n",
       "e_0                                         0.951884\n",
       "Name: 55, dtype: object"
      ]
     },
     "execution_count": 235,
     "metadata": {},
     "output_type": "execute_result"
    }
   ],
   "source": [
    "sw_in_sep[0][[\"Rs_down\",\"ALFA\",\"Rl_down\",\"Rl_up\",\"G\",\"Rn\",\"Tao_sw\",\"image_id\",\"LE\",\"e_0\"]]"
   ]
  },
  {
   "cell_type": "code",
   "execution_count": 236,
   "id": "91250a64",
   "metadata": {},
   "outputs": [
    {
     "data": {
      "text/plain": [
       "Rs_down                                   932.170654\n",
       "ALFA                                        0.136072\n",
       "Rl_down                                   313.005682\n",
       "Rl_up                                     368.553619\n",
       "G                                          53.822445\n",
       "Rn                                        734.719704\n",
       "Tao_sw                                      0.769819\n",
       "image_id    LC08_L1TP_044033_20210524_20210529_02_T1\n",
       "LE                                        680.897258\n",
       "e_0                                         0.951884\n",
       "Name: 60, dtype: object"
      ]
     },
     "execution_count": 236,
     "metadata": {},
     "output_type": "execute_result"
    }
   ],
   "source": [
    "sw_in_sep[5][[\"Rs_down\",\"ALFA\",\"Rl_down\",\"Rl_up\",\"G\",\"Rn\",\"Tao_sw\",\"image_id\",\"LE\",\"e_0\"]]"
   ]
  },
  {
   "cell_type": "code",
   "execution_count": 237,
   "id": "d4eda1ab",
   "metadata": {},
   "outputs": [
    {
     "data": {
      "text/plain": [
       "334.77000000000004"
      ]
     },
     "execution_count": 237,
     "metadata": {},
     "output_type": "execute_result"
    }
   ],
   "source": [
    "466*(1-0.13)+313-368-(1-0.95)*313"
   ]
  },
  {
   "cell_type": "code",
   "execution_count": 238,
   "id": "dfa30454",
   "metadata": {},
   "outputs": [
    {
     "data": {
      "text/plain": [
       "740.1900000000002"
      ]
     },
     "execution_count": 238,
     "metadata": {},
     "output_type": "execute_result"
    }
   ],
   "source": [
    "932*(1-0.13)+313-368-(1-0.95)*313"
   ]
  },
  {
   "cell_type": "code",
   "execution_count": 240,
   "id": "88811d64",
   "metadata": {},
   "outputs": [
    {
     "data": {
      "text/plain": [
       "1.215568862275449"
      ]
     },
     "execution_count": 240,
     "metadata": {},
     "output_type": "execute_result"
    }
   ],
   "source": [
    "((740-334)/334)"
   ]
  },
  {
   "cell_type": "code",
   "execution_count": 241,
   "id": "f1f1b563",
   "metadata": {},
   "outputs": [
    {
     "data": {
      "text/plain": [
       "241.57000000000002"
      ]
     },
     "execution_count": 241,
     "metadata": {},
     "output_type": "execute_result"
    }
   ],
   "source": [
    "466*(1-0.63)+313-368-(1-0.95)*313"
   ]
  },
  {
   "cell_type": "code",
   "execution_count": 242,
   "id": "33f05ec5",
   "metadata": {},
   "outputs": [
    {
     "data": {
      "text/plain": [
       "553.79"
      ]
     },
     "execution_count": 242,
     "metadata": {},
     "output_type": "execute_result"
    }
   ],
   "source": [
    "932*(1-0.63)+313-368-(1-0.95)*313"
   ]
  },
  {
   "cell_type": "code",
   "execution_count": 243,
   "id": "6251b386",
   "metadata": {},
   "outputs": [
    {
     "data": {
      "text/plain": [
       "1.2946058091286308"
      ]
     },
     "execution_count": 243,
     "metadata": {},
     "output_type": "execute_result"
    }
   ],
   "source": [
    "(553-241)/241"
   ]
  },
  {
   "cell_type": "code",
   "execution_count": 271,
   "id": "15343896",
   "metadata": {},
   "outputs": [
    {
     "data": {
      "text/plain": [
       "[<matplotlib.lines.Line2D at 0x234d6690ca0>]"
      ]
     },
     "execution_count": 271,
     "metadata": {},
     "output_type": "execute_result"
    },
    {
     "data": {
      "image/png": "[encoded data removed]",
      "text/plain": [
       "<Figure size 432x432 with 1 Axes>"
      ]
     },
     "metadata": {
      "needs_background": "light"
     },
     "output_type": "display_data"
    }
   ],
   "source": [
    "## Plotting the errors \n",
    "fig,ax=plt.subplots(figsize=(6,6))\n",
    "plt.plot(albedo_error[\"Sensitivity\"],albedo_error[\"Bias_LE\"],\"o\",c=\"b\",label=\"Albedo\")\n",
    "plt.plot(sw_in_error[\"Sensitivity\"],sw_in_error[\"Bias_LE\"],\"o\",c=\"r\",label=\"SW IN\")\n",
    "plt.plot(lw_in_error[\"Sensitivity\"],lw_in_error[\"Bias_LE\"],\"o\",c=\"g\",label=\"LW IN\")\n",
    "plt.plot(lw_out_error[\"Sensitivity\"],lw_out_error[\"Bias_LE\"],\"o\",c=\"y\",label=\"LW OUT\")\n",
    "plt.plot(netrad_error[\"Sensitivity\"],netrad_error[\"Bias_LE\"],\"o\",c=\"m\",label=\"NETRAD\")\n",
    "plt.plot(trans_error[\"Sensitivity\"],trans_error[\"Bias_LE\"],\"o\",c=\"c\",label=r\"$\\tau_{sw}$\")\n",
    "\n",
    "plt.legend(fontsize=10)\n",
    "plt.xlabel(\"Perturbation in %\",fontsize=20)\n",
    "plt.ylabel(\"$LE_{inst}$ Bias (%)\",fontsize=20)\n",
    "plt.xticks(fontsize=15)\n",
    "plt.yticks(fontsize=15)\n",
    "plt.plot(np.linspace(0,0,10),np.linspace(-100,120,10),linewidth=2,c=\"k\")\n",
    "plt.plot(np.linspace(-50,50,5),np.linspace(0,0,5),linewidth=2,c=\"k\")"
   ]
  },
  {
   "cell_type": "code",
   "execution_count": 273,
   "id": "0fc123fa",
   "metadata": {},
   "outputs": [
    {
     "data": {
      "text/html": [
       "<div>\n",
       "<style scoped>\n",
       "    .dataframe tbody tr th:only-of-type {\n",
       "        vertical-align: middle;\n",
       "    }\n",
       "\n",
       "    .dataframe tbody tr th {\n",
       "        vertical-align: top;\n",
       "    }\n",
       "\n",
       "    .dataframe thead th {\n",
       "        text-align: right;\n",
       "    }\n",
       "</style>\n",
       "<table border=\"1\" class=\"dataframe\">\n",
       "  <thead>\n",
       "    <tr style=\"text-align: right;\">\n",
       "      <th></th>\n",
       "      <th>Bias_LE</th>\n",
       "      <th>Bias_Albedo</th>\n",
       "      <th>Sensitivity</th>\n",
       "    </tr>\n",
       "  </thead>\n",
       "  <tbody>\n",
       "    <tr>\n",
       "      <th>0</th>\n",
       "      <td>10.812332</td>\n",
       "      <td>-50.000000</td>\n",
       "      <td>-50</td>\n",
       "    </tr>\n",
       "    <tr>\n",
       "      <th>1</th>\n",
       "      <td>8.649866</td>\n",
       "      <td>-40.000000</td>\n",
       "      <td>-40</td>\n",
       "    </tr>\n",
       "    <tr>\n",
       "      <th>2</th>\n",
       "      <td>6.487399</td>\n",
       "      <td>-30.000000</td>\n",
       "      <td>-30</td>\n",
       "    </tr>\n",
       "    <tr>\n",
       "      <th>3</th>\n",
       "      <td>4.324933</td>\n",
       "      <td>-20.000000</td>\n",
       "      <td>-20</td>\n",
       "    </tr>\n",
       "    <tr>\n",
       "      <th>4</th>\n",
       "      <td>2.162466</td>\n",
       "      <td>-10.000000</td>\n",
       "      <td>-10</td>\n",
       "    </tr>\n",
       "    <tr>\n",
       "      <th>5</th>\n",
       "      <td>0.000000</td>\n",
       "      <td>0.000000</td>\n",
       "      <td>0</td>\n",
       "    </tr>\n",
       "    <tr>\n",
       "      <th>6</th>\n",
       "      <td>-2.162465</td>\n",
       "      <td>9.999995</td>\n",
       "      <td>10</td>\n",
       "    </tr>\n",
       "    <tr>\n",
       "      <th>7</th>\n",
       "      <td>-4.324933</td>\n",
       "      <td>20.000000</td>\n",
       "      <td>20</td>\n",
       "    </tr>\n",
       "    <tr>\n",
       "      <th>8</th>\n",
       "      <td>-6.487398</td>\n",
       "      <td>29.999995</td>\n",
       "      <td>30</td>\n",
       "    </tr>\n",
       "    <tr>\n",
       "      <th>9</th>\n",
       "      <td>-8.649865</td>\n",
       "      <td>40.000000</td>\n",
       "      <td>40</td>\n",
       "    </tr>\n",
       "    <tr>\n",
       "      <th>10</th>\n",
       "      <td>-10.812331</td>\n",
       "      <td>49.999995</td>\n",
       "      <td>50</td>\n",
       "    </tr>\n",
       "  </tbody>\n",
       "</table>\n",
       "</div>"
      ],
      "text/plain": [
       "      Bias_LE  Bias_Albedo  Sensitivity\n",
       "0   10.812332   -50.000000          -50\n",
       "1    8.649866   -40.000000          -40\n",
       "2    6.487399   -30.000000          -30\n",
       "3    4.324933   -20.000000          -20\n",
       "4    2.162466   -10.000000          -10\n",
       "5    0.000000     0.000000            0\n",
       "6   -2.162465     9.999995           10\n",
       "7   -4.324933    20.000000           20\n",
       "8   -6.487398    29.999995           30\n",
       "9   -8.649865    40.000000           40\n",
       "10 -10.812331    49.999995           50"
      ]
     },
     "execution_count": 273,
     "metadata": {},
     "output_type": "execute_result"
    }
   ],
   "source": [
    "albedo_error_daily"
   ]
  },
  {
   "cell_type": "code",
   "execution_count": 275,
   "id": "65c87fa2",
   "metadata": {},
   "outputs": [
    {
     "data": {
      "text/html": [
       "<div>\n",
       "<style scoped>\n",
       "    .dataframe tbody tr th:only-of-type {\n",
       "        vertical-align: middle;\n",
       "    }\n",
       "\n",
       "    .dataframe tbody tr th {\n",
       "        vertical-align: top;\n",
       "    }\n",
       "\n",
       "    .dataframe thead th {\n",
       "        text-align: right;\n",
       "    }\n",
       "</style>\n",
       "<table border=\"1\" class=\"dataframe\">\n",
       "  <thead>\n",
       "    <tr style=\"text-align: right;\">\n",
       "      <th></th>\n",
       "      <th>Bias_LE</th>\n",
       "      <th>Bias_tao</th>\n",
       "      <th>Sensitivity</th>\n",
       "    </tr>\n",
       "  </thead>\n",
       "  <tbody>\n",
       "    <tr>\n",
       "      <th>0</th>\n",
       "      <td>0.0</td>\n",
       "      <td>-50.000000</td>\n",
       "      <td>-50</td>\n",
       "    </tr>\n",
       "    <tr>\n",
       "      <th>1</th>\n",
       "      <td>0.0</td>\n",
       "      <td>-40.000003</td>\n",
       "      <td>-40</td>\n",
       "    </tr>\n",
       "    <tr>\n",
       "      <th>2</th>\n",
       "      <td>0.0</td>\n",
       "      <td>-29.999998</td>\n",
       "      <td>-30</td>\n",
       "    </tr>\n",
       "    <tr>\n",
       "      <th>3</th>\n",
       "      <td>0.0</td>\n",
       "      <td>-20.000002</td>\n",
       "      <td>-20</td>\n",
       "    </tr>\n",
       "    <tr>\n",
       "      <th>4</th>\n",
       "      <td>0.0</td>\n",
       "      <td>-10.000005</td>\n",
       "      <td>-10</td>\n",
       "    </tr>\n",
       "    <tr>\n",
       "      <th>5</th>\n",
       "      <td>0.0</td>\n",
       "      <td>0.000000</td>\n",
       "      <td>0</td>\n",
       "    </tr>\n",
       "    <tr>\n",
       "      <th>6</th>\n",
       "      <td>0.0</td>\n",
       "      <td>9.999997</td>\n",
       "      <td>10</td>\n",
       "    </tr>\n",
       "    <tr>\n",
       "      <th>7</th>\n",
       "      <td>0.0</td>\n",
       "      <td>19.999994</td>\n",
       "      <td>20</td>\n",
       "    </tr>\n",
       "    <tr>\n",
       "      <th>8</th>\n",
       "      <td>NaN</td>\n",
       "      <td>29.999998</td>\n",
       "      <td>30</td>\n",
       "    </tr>\n",
       "    <tr>\n",
       "      <th>9</th>\n",
       "      <td>NaN</td>\n",
       "      <td>40.000003</td>\n",
       "      <td>40</td>\n",
       "    </tr>\n",
       "    <tr>\n",
       "      <th>10</th>\n",
       "      <td>NaN</td>\n",
       "      <td>49.999992</td>\n",
       "      <td>50</td>\n",
       "    </tr>\n",
       "  </tbody>\n",
       "</table>\n",
       "</div>"
      ],
      "text/plain": [
       "    Bias_LE   Bias_tao  Sensitivity\n",
       "0       0.0 -50.000000          -50\n",
       "1       0.0 -40.000003          -40\n",
       "2       0.0 -29.999998          -30\n",
       "3       0.0 -20.000002          -20\n",
       "4       0.0 -10.000005          -10\n",
       "5       0.0   0.000000            0\n",
       "6       0.0   9.999997           10\n",
       "7       0.0  19.999994           20\n",
       "8       NaN  29.999998           30\n",
       "9       NaN  40.000003           40\n",
       "10      NaN  49.999992           50"
      ]
     },
     "execution_count": 275,
     "metadata": {},
     "output_type": "execute_result"
    }
   ],
   "source": [
    "trans_error_daily"
   ]
  },
  {
   "cell_type": "code",
   "execution_count": 269,
   "id": "3254ad5c",
   "metadata": {},
   "outputs": [
    {
     "data": {
      "text/plain": [
       "(array([-0.06, -0.04, -0.02,  0.  ,  0.02,  0.04,  0.06]),\n",
       " [Text(0, 0, ''),\n",
       "  Text(0, 0, ''),\n",
       "  Text(0, 0, ''),\n",
       "  Text(0, 0, ''),\n",
       "  Text(0, 0, ''),\n",
       "  Text(0, 0, ''),\n",
       "  Text(0, 0, '')])"
      ]
     },
     "execution_count": 269,
     "metadata": {},
     "output_type": "execute_result"
    },
    {
     "data": {
      "image/png": "[encoded data removed]",
      "text/plain": [
       "<Figure size 432x432 with 1 Axes>"
      ]
     },
     "metadata": {
      "needs_background": "light"
     },
     "output_type": "display_data"
    }
   ],
   "source": [
    "## Plotting the error_dailys \n",
    "fig,ax=plt.subplots(figsize=(6,6))\n",
    "# plt.plot(albedo_error_daily[\"Sensitivity\"],albedo_error_daily[\"Bias_LE\"],\"o\",c=\"b\",label=\"Albedo\")\n",
    "plt.plot(sw_in_error_daily[\"Sensitivity\"],sw_in_error_daily[\"Bias_LE\"],\"o\",c=\"r\",label=\"SW IN\")\n",
    "plt.plot(lw_in_error_daily[\"Sensitivity\"],lw_in_error_daily[\"Bias_LE\"],\"o\",c=\"g\",label=\"LW IN\")\n",
    "plt.plot(lw_out_error_daily[\"Sensitivity\"],lw_out_error_daily[\"Bias_LE\"],\"o\",c=\"y\",label=\"LW OUT\")\n",
    "plt.plot(netrad_error_daily[\"Sensitivity\"],netrad_error_daily[\"Bias_LE\"],\"o\",c=\"m\",label=\"NETRAD\")\n",
    "plt.plot(trans_error_daily[\"Sensitivity\"],trans_error_daily[\"Bias_LE\"],\"o\",c=\"c\",label=r\"$\\tau_{sw}$\")\n",
    "\n",
    "plt.legend(fontsize=10)\n",
    "plt.xlabel(\"Perturbation in %\",fontsize=20)\n",
    "plt.ylabel(\"$ET_{Daily}$ Bias (%)\",fontsize=20)\n",
    "plt.xticks(fontsize=15)\n",
    "plt.yticks(fontsize=15)\n",
    "# plt.plot(np.linspace(0,0,10),np.linspace(-100,120,10),linewidth=2,c=\"k\")\n",
    "# plt.plot(np.linspace(-50,50,5),np.linspace(0,0,5),linewidth=2,c=\"k\")"
   ]
  },
  {
   "cell_type": "code",
   "execution_count": 138,
   "id": "55dc75d4",
   "metadata": {},
   "outputs": [
    {
     "data": {
      "text/plain": [
       "(array([-10.,   0.,  10.,  20.,  30.,  40.,  50.,  60.,  70.,  80.]),\n",
       " [Text(0, 0, ''),\n",
       "  Text(0, 0, ''),\n",
       "  Text(0, 0, ''),\n",
       "  Text(0, 0, ''),\n",
       "  Text(0, 0, ''),\n",
       "  Text(0, 0, ''),\n",
       "  Text(0, 0, ''),\n",
       "  Text(0, 0, ''),\n",
       "  Text(0, 0, ''),\n",
       "  Text(0, 0, '')])"
      ]
     },
     "execution_count": 138,
     "metadata": {},
     "output_type": "execute_result"
    },
    {
     "data": {
      "image/png": "[encoded data removed]",
      "text/plain": [
       "<Figure size 432x288 with 1 Axes>"
      ]
     },
     "metadata": {
      "needs_background": "light"
     },
     "output_type": "display_data"
    }
   ],
   "source": [
    "plt.plot(albedo_error[\"Bias_Albedo\"],albedo_error[\"rmse_LE\"],\"o\",c=\"b\",label=\"Albedo\")\n",
    "plt.xlabel(\"% Error in Albedo\",fontsize=20)\n",
    "plt.ylabel(\"$LE_{inst}$ RMSE $(W/m^2)$\",fontsize=20)\n",
    "plt.xticks(fontsize=15)\n",
    "plt.yticks(fontsize=15)"
   ]
  },
  {
   "cell_type": "code",
   "execution_count": 139,
   "id": "c8d1b370",
   "metadata": {},
   "outputs": [
    {
     "data": {
      "text/plain": [
       "(array([-30., -20., -10.,   0.,  10.,  20.,  30.]),\n",
       " [Text(0, 0, ''),\n",
       "  Text(0, 0, ''),\n",
       "  Text(0, 0, ''),\n",
       "  Text(0, 0, ''),\n",
       "  Text(0, 0, ''),\n",
       "  Text(0, 0, ''),\n",
       "  Text(0, 0, '')])"
      ]
     },
     "execution_count": 139,
     "metadata": {},
     "output_type": "execute_result"
    },
    {
     "data": {
      "image/png": "[encoded data removed]",
      "text/plain": [
       "<Figure size 432x288 with 1 Axes>"
      ]
     },
     "metadata": {
      "needs_background": "light"
     },
     "output_type": "display_data"
    }
   ],
   "source": [
    "plt.plot(albedo_error[\"Bias_Albedo\"],albedo_error[\"Bias_LE\"],\"o\",c=\"b\",label=\"Albedo\")\n",
    "plt.xlabel(\"% Error in Albedo\",fontsize=20)\n",
    "plt.ylabel(\"$LE_{inst}$ Bias (%)\",fontsize=20)\n",
    "plt.xticks(fontsize=15)\n",
    "plt.yticks(fontsize=15)"
   ]
  },
  {
   "cell_type": "code",
   "execution_count": 306,
   "id": "36faee71",
   "metadata": {},
   "outputs": [
    {
     "data": {
      "text/plain": [
       "(array([ 80.,  90., 100., 110., 120., 130., 140., 150., 160., 170.]),\n",
       " [Text(0, 0, ''),\n",
       "  Text(0, 0, ''),\n",
       "  Text(0, 0, ''),\n",
       "  Text(0, 0, ''),\n",
       "  Text(0, 0, ''),\n",
       "  Text(0, 0, ''),\n",
       "  Text(0, 0, ''),\n",
       "  Text(0, 0, ''),\n",
       "  Text(0, 0, ''),\n",
       "  Text(0, 0, '')])"
      ]
     },
     "execution_count": 306,
     "metadata": {},
     "output_type": "execute_result"
    },
    {
     "data": {
      "image/png": "[encoded data removed]",
      "text/plain": [
       "<Figure size 432x288 with 1 Axes>"
      ]
     },
     "metadata": {
      "needs_background": "light"
     },
     "output_type": "display_data"
    }
   ],
   "source": [
    "plt.plot(trans_error[\"Bias_tao\"],trans_error[\"rmse_LE\"],\"o\",c=\"b\",label=\"Tao\")\n",
    "plt.xlabel(r\"% Error in $\\tau_{sw}$\",fontsize=20)\n",
    "plt.ylabel(\"$LE_{inst}$ RMSE $(W/m^2)$\",fontsize=20)\n",
    "plt.xticks(fontsize=15)\n",
    "plt.yticks(fontsize=15)"
   ]
  },
  {
   "cell_type": "code",
   "execution_count": 258,
   "id": "12d7c901",
   "metadata": {},
   "outputs": [
    {
     "data": {
      "text/plain": [
       "(array([ 80., 100., 120., 140., 160., 180.]),\n",
       " [Text(0, 0, ''),\n",
       "  Text(0, 0, ''),\n",
       "  Text(0, 0, ''),\n",
       "  Text(0, 0, ''),\n",
       "  Text(0, 0, ''),\n",
       "  Text(0, 0, '')])"
      ]
     },
     "execution_count": 258,
     "metadata": {},
     "output_type": "execute_result"
    },
    {
     "data": {
      "image/png": "[encoded data removed]",
      "text/plain": [
       "<Figure size 432x288 with 1 Axes>"
      ]
     },
     "metadata": {
      "needs_background": "light"
     },
     "output_type": "display_data"
    }
   ],
   "source": [
    "plt.plot(sw_in_error[\"Bias_SW_IN\"],sw_in_error[\"rmse_LE\"],\"o\",c=\"b\",label=\"SW IN\")\n",
    "plt.xlabel(\"% Error in SW IN\",fontsize=20)\n",
    "plt.ylabel(\"$LE_{inst}$ RMSE $(W/m^2)$\",fontsize=20)\n",
    "plt.xticks(fontsize=15)\n",
    "plt.yticks(fontsize=15)"
   ]
  },
  {
   "cell_type": "code",
   "execution_count": 261,
   "id": "911a98bb",
   "metadata": {},
   "outputs": [
    {
     "data": {
      "text/plain": [
       "(array([100., 110., 120., 130., 140., 150.]),\n",
       " [Text(0, 0, ''),\n",
       "  Text(0, 0, ''),\n",
       "  Text(0, 0, ''),\n",
       "  Text(0, 0, ''),\n",
       "  Text(0, 0, ''),\n",
       "  Text(0, 0, '')])"
      ]
     },
     "execution_count": 261,
     "metadata": {},
     "output_type": "execute_result"
    },
    {
     "data": {
      "image/png": "[encoded data removed]",
      "text/plain": [
       "<Figure size 432x288 with 1 Axes>"
      ]
     },
     "metadata": {
      "needs_background": "light"
     },
     "output_type": "display_data"
    }
   ],
   "source": [
    "plt.plot(lw_in_error[\"Bias_LW_IN\"],lw_in_error[\"rmse_LE\"],\"o\",c=\"b\",label=\"lw IN\")\n",
    "plt.xlabel(\"% Error in LW IN\",fontsize=20)\n",
    "plt.ylabel(\"$LE_{inst}$ RMSE $(W/m^2)$\",fontsize=20)\n",
    "plt.xticks(fontsize=15)\n",
    "plt.yticks(fontsize=15)"
   ]
  },
  {
   "cell_type": "code",
   "execution_count": 263,
   "id": "c0393bda",
   "metadata": {},
   "outputs": [
    {
     "data": {
      "text/plain": [
       "(array([ 80.,  90., 100., 110., 120., 130., 140., 150., 160., 170.]),\n",
       " [Text(0, 0, ''),\n",
       "  Text(0, 0, ''),\n",
       "  Text(0, 0, ''),\n",
       "  Text(0, 0, ''),\n",
       "  Text(0, 0, ''),\n",
       "  Text(0, 0, ''),\n",
       "  Text(0, 0, ''),\n",
       "  Text(0, 0, ''),\n",
       "  Text(0, 0, ''),\n",
       "  Text(0, 0, '')])"
      ]
     },
     "execution_count": 263,
     "metadata": {},
     "output_type": "execute_result"
    },
    {
     "data": {
      "image/png": "[encoded data removed]",
      "text/plain": [
       "<Figure size 432x288 with 1 Axes>"
      ]
     },
     "metadata": {
      "needs_background": "light"
     },
     "output_type": "display_data"
    }
   ],
   "source": [
    "plt.plot(lw_out_error[\"Bias_LW_OUT\"],lw_out_error[\"rmse_LE\"],\"o\",c=\"b\",label=\"lw IN\")\n",
    "plt.xlabel(\"% Error in LW OUT\",fontsize=20)\n",
    "plt.ylabel(\"$LE_{inst}$ RMSE $(W/m^2)$\",fontsize=20)\n",
    "plt.xticks(fontsize=15)\n",
    "plt.yticks(fontsize=15)"
   ]
  },
  {
   "cell_type": "code",
   "execution_count": 267,
   "id": "8c218d6b",
   "metadata": {},
   "outputs": [
    {
     "data": {
      "text/plain": [
       "(array([ 80.,  90., 100., 110., 120., 130., 140., 150., 160., 170.]),\n",
       " [Text(0, 0, ''),\n",
       "  Text(0, 0, ''),\n",
       "  Text(0, 0, ''),\n",
       "  Text(0, 0, ''),\n",
       "  Text(0, 0, ''),\n",
       "  Text(0, 0, ''),\n",
       "  Text(0, 0, ''),\n",
       "  Text(0, 0, ''),\n",
       "  Text(0, 0, ''),\n",
       "  Text(0, 0, '')])"
      ]
     },
     "execution_count": 267,
     "metadata": {},
     "output_type": "execute_result"
    },
    {
     "data": {
      "image/png": "[encoded data removed]",
      "text/plain": [
       "<Figure size 432x288 with 1 Axes>"
      ]
     },
     "metadata": {
      "needs_background": "light"
     },
     "output_type": "display_data"
    }
   ],
   "source": [
    "plt.plot(netrad_error[\"Bias_NETRAD\"],netrad_error[\"rmse_LE\"],\"o\",c=\"b\",label=\"lw IN\")\n",
    "plt.xlabel(\"% Error in $R_{n}$\",fontsize=20)\n",
    "plt.ylabel(\"$LE_{inst}$ RMSE $(W/m^2)$\",fontsize=20)\n",
    "plt.xticks(fontsize=15)\n",
    "plt.yticks(fontsize=15)"
   ]
  }
 ],
 "metadata": {
  "kernelspec": {
   "display_name": "Python 3 (ipykernel)",
   "language": "python",
   "name": "python3"
  },
  "language_info": {
   "codemirror_mode": {
    "name": "ipython",
    "version": 3
   },
   "file_extension": ".py",
   "mimetype": "text/x-python",
   "name": "python",
   "nbconvert_exporter": "python",
   "pygments_lexer": "ipython3",
   "version": "3.10.0"
  }
 },
 "nbformat": 4,
 "nbformat_minor": 5
}
